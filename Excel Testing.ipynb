{
 "cells": [
  {
   "cell_type": "code",
   "execution_count": 6,
   "metadata": {},
   "outputs": [],
   "source": [
    "import pandas as pd\n",
    "import openpyxl as op\n",
    "import os"
   ]
  },
  {
   "cell_type": "code",
   "execution_count": 7,
   "metadata": {},
   "outputs": [
    {
     "data": {
      "text/plain": [
       "'/home/mdfinlayson/pandas'"
      ]
     },
     "execution_count": 7,
     "metadata": {},
     "output_type": "execute_result"
    }
   ],
   "source": [
    "os.getcwd()"
   ]
  },
  {
   "cell_type": "code",
   "execution_count": 8,
   "metadata": {},
   "outputs": [
    {
     "data": {
      "text/plain": [
       "['.ipynb_checkpoints',\n",
       " 'Jupyter Notebook.ipynb',\n",
       " 'Series.ipynb',\n",
       " 'employees.csv',\n",
       " 'Restaurant - Customers.csv',\n",
       " 'Restaurant - Week 2 Sales.csv',\n",
       " 'salesmen.csv',\n",
       " 'revenue.csv',\n",
       " 'quarters.csv',\n",
       " 'foods.csv',\n",
       " 'ecommerce.csv',\n",
       " 'Restaurant - Foods.csv',\n",
       " 'Restaurant - Week 1 Satisfaction.csv',\n",
       " 'fortune1000.csv',\n",
       " 'google_stock_price.csv',\n",
       " 'chicago.csv',\n",
       " 'jamesbond.csv',\n",
       " 'pokemon.csv',\n",
       " 'bigmac.csv',\n",
       " 'worldstats.csv',\n",
       " 'nba.csv',\n",
       " 'Restaurant - Week 1 Sales.csv',\n",
       " 'Data - Single Worksheet.xlsx',\n",
       " 'Data - Multiple Worksheets.xlsx',\n",
       " 'Untitled.ipynb']"
      ]
     },
     "execution_count": 8,
     "metadata": {},
     "output_type": "execute_result"
    }
   ],
   "source": [
    "os.listdir()"
   ]
  },
  {
   "cell_type": "code",
   "execution_count": 9,
   "metadata": {},
   "outputs": [
    {
     "data": {
      "text/plain": [
       "<openpyxl.workbook.workbook.Workbook at 0x7bcdecd35518>"
      ]
     },
     "execution_count": 9,
     "metadata": {},
     "output_type": "execute_result"
    }
   ],
   "source": [
    "op.load_workbook('Data - Single Worksheet.xlsx')\n"
   ]
  },
  {
   "cell_type": "code",
   "execution_count": null,
   "metadata": {},
   "outputs": [],
   "source": []
  }
 ],
 "metadata": {
  "kernelspec": {
   "display_name": "Python 3",
   "language": "python",
   "name": "python3"
  },
  "language_info": {
   "codemirror_mode": {
    "name": "ipython",
    "version": 3
   },
   "file_extension": ".py",
   "mimetype": "text/x-python",
   "name": "python",
   "nbconvert_exporter": "python",
   "pygments_lexer": "ipython3",
   "version": "3.5.3"
  }
 },
 "nbformat": 4,
 "nbformat_minor": 2
}
